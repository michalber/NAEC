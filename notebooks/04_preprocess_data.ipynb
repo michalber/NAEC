{
 "cells": [
  {
   "cell_type": "markdown",
   "source": [
    "# This notebook is used to prepare training data from Excel sheets with all training data"
   ],
   "metadata": {
    "collapsed": false
   }
  },
  {
   "cell_type": "code",
   "execution_count": 20,
   "metadata": {
    "collapsed": true
   },
   "outputs": [],
   "source": [
    "from naec import config\n",
    "from naec import preprocess_audio_data\n",
    "import pandas as pd\n",
    "import numpy as np\n",
    "import h5py\n",
    "\n",
    "import tensorflow as tf\n",
    "import tensorflow_io as tfio"
   ]
  },
  {
   "cell_type": "code",
   "execution_count": 21,
   "outputs": [],
   "source": [
    "NFFT = 512\n",
    "WINDOW_SIZE_SAMPLES = 512\n",
    "STRIDE_SIZE_PERC = 0.5\n",
    "STRIDE_SIZE_SAMPLES = int(WINDOW_SIZE_SAMPLES * STRIDE_SIZE_PERC)"
   ],
   "metadata": {
    "collapsed": false,
    "pycharm": {
     "name": "#%%\n"
    }
   }
  },
  {
   "cell_type": "code",
   "execution_count": 22,
   "outputs": [],
   "source": [
    "train_data = pd.read_excel(\"train_data.xlsx\")"
   ],
   "metadata": {
    "collapsed": false,
    "pycharm": {
     "name": "#%%\n"
    }
   }
  },
  {
   "cell_type": "code",
   "execution_count": 23,
   "outputs": [],
   "source": [
    "last_rows = train_data.tail(10)"
   ],
   "metadata": {
    "collapsed": false,
    "pycharm": {
     "name": "#%%\n"
    }
   }
  },
  {
   "cell_type": "code",
   "execution_count": 24,
   "outputs": [
    {
     "name": "stdout",
     "output_type": "stream",
     "text": [
      "dt object\n"
     ]
    }
   ],
   "source": [
    "train_dataset = h5py.File(\"train_dataset.h5\", 'w')\n",
    "\n",
    "columnNo = 10\n",
    "dt = h5py.vlen_dtype(np.dtype('float32'))\n",
    "x_dset = train_dataset.create_dataset('x_dataset', (columnNo,), dtype=dt, compression=\"gzip\", compression_opts=9)\n",
    "y_dset = train_dataset.create_dataset('y_dataset', (columnNo,), dtype=dt, compression=\"gzip\", compression_opts=9)\n",
    "print('dt',dt)"
   ],
   "metadata": {
    "collapsed": false,
    "pycharm": {
     "name": "#%%\n"
    }
   }
  },
  {
   "cell_type": "code",
   "execution_count": 25,
   "outputs": [],
   "source": [
    "import tensorflow as tf\n",
    "import tensorflow_io as tfio\n",
    "\n",
    "\n",
    "def convert_audio_to_spectrogram(filepath, nfft, window_size_samples, stride_size_samples):\n",
    "    audio = tfio.audio.AudioIOTensor(filepath)\n",
    "    audio_slice = audio[:]\n",
    "    audio_tensor = tf.squeeze(audio_slice, axis=[-1])\n",
    "    if audio_tensor.dtype != tf.float32:\n",
    "        audio_tensor = tf.cast(audio_tensor, tf.float32) / 32768.0\n",
    "    position = tfio.audio.trim(audio_tensor, axis=0, epsilon=0.1)\n",
    "    start = position[0]\n",
    "    stop = position[1]\n",
    "    processed = audio_tensor[start:stop]\n",
    "    spectrogram = tfio.audio.spectrogram(\n",
    "        processed, nfft=nfft, window=window_size_samples, stride=stride_size_samples)\n",
    "\n",
    "    spectrogram = tf.math.log(spectrogram).numpy()\n",
    "    return spectrogram"
   ],
   "metadata": {
    "collapsed": false,
    "pycharm": {
     "name": "#%%\n"
    }
   }
  },
  {
   "cell_type": "code",
   "execution_count": 26,
   "outputs": [],
   "source": [
    "i = 0\n",
    "for index, row in last_rows.iterrows():\n",
    "    x_data_filename = row['DT Mic'].replace('\\\\', '/')\n",
    "    x_data_spectrogram = convert_audio_to_spectrogram(x_data_filename, NFFT, WINDOW_SIZE_SAMPLES, STRIDE_SIZE_SAMPLES)\n",
    "\n",
    "    y_data_filename = row['DT Clean'].replace('\\\\', '/')\n",
    "    y_data_spectrogram = convert_audio_to_spectrogram(y_data_filename, NFFT, WINDOW_SIZE_SAMPLES, STRIDE_SIZE_SAMPLES)\n",
    "    x_dset[i] = x_data_spectrogram.flatten()\n",
    "    y_dset[i] = y_data_spectrogram.flatten()\n",
    "    i = i + 1"
   ],
   "metadata": {
    "collapsed": false,
    "pycharm": {
     "name": "#%%\n"
    }
   }
  },
  {
   "cell_type": "code",
   "execution_count": 27,
   "outputs": [],
   "source": [
    "train_dataset.close()"
   ],
   "metadata": {
    "collapsed": false,
    "pycharm": {
     "name": "#%%\n"
    }
   }
  }
 ],
 "metadata": {
  "kernelspec": {
   "display_name": "Python 3",
   "language": "python",
   "name": "python3"
  },
  "language_info": {
   "codemirror_mode": {
    "name": "ipython",
    "version": 2
   },
   "file_extension": ".py",
   "mimetype": "text/x-python",
   "name": "python",
   "nbconvert_exporter": "python",
   "pygments_lexer": "ipython2",
   "version": "2.7.6"
  }
 },
 "nbformat": 4,
 "nbformat_minor": 0
}