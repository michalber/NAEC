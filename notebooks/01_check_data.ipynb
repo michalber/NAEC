{
 "cells": [
  {
   "cell_type": "markdown",
   "source": [
    "# NAEC - Notebook to check challenge data statistic"
   ],
   "metadata": {
    "collapsed": false
   }
  },
  {
   "cell_type": "code",
   "execution_count": 2,
   "outputs": [],
   "source": [
    "import matplotlib.pyplot  as plt\n",
    "from os import path\n",
    "import logging\n",
    "import random, os\n",
    "import scipy.io.wavfile as wav\n",
    "import tensorflow as tf\n",
    "import tensorflow_io as tfio"
   ],
   "metadata": {
    "collapsed": false,
    "pycharm": {
     "name": "#%%\n"
    }
   }
  },
  {
   "cell_type": "code",
   "execution_count": 10,
   "outputs": [],
   "source": [
    "CUR_PATH = os.getcwd()\n",
    "DATA_PATH_PREFIX = CUR_PATH + \"/../data/AEC-Challenge/datasets/\"\n",
    "DATA_PATHS = [DATA_PATH_PREFIX + \"real\", DATA_PATH_PREFIX + \"real_doubled\"]"
   ],
   "metadata": {
    "collapsed": false,
    "pycharm": {
     "name": "#%%\n"
    }
   }
  },
  {
   "cell_type": "markdown",
   "source": [
    "### Check if data directories exists"
   ],
   "metadata": {
    "collapsed": false
   }
  },
  {
   "cell_type": "code",
   "execution_count": 11,
   "outputs": [],
   "source": [
    "for path_ in DATA_PATHS:\n",
    "    if(not path.exists(path_)):\n",
    "        logging.error(\"%s is not existing!\", path_)\n",
    "        raise Exception()"
   ],
   "metadata": {
    "collapsed": false,
    "pycharm": {
     "name": "#%%\n"
    }
   }
  },
  {
   "cell_type": "code",
   "execution_count": 12,
   "outputs": [],
   "source": [
    "def CheckAudioLen(filename):\n",
    "    (source_rate, source_sig) = wav.read(filename)\n",
    "    duration_seconds = len(source_sig) / float(source_rate)\n",
    "    return duration_seconds"
   ],
   "metadata": {
    "collapsed": false,
    "pycharm": {
     "name": "#%%\n"
    }
   }
  },
  {
   "cell_type": "code",
   "execution_count": 13,
   "outputs": [
    {
     "name": "stderr",
     "output_type": "stream",
     "text": [
      "c:\\users\\michu\\lib\\site-packages\\ipykernel_launcher.py:2: WavFileWarning: Reached EOF prematurely; finished at 163840 bytes, expected 8593966 bytes from header.\n",
      "  \n"
     ]
    }
   ],
   "source": [
    "audio_lengts = []\n",
    "for path_ in DATA_PATHS:\n",
    "    filenames = random.sample(os.listdir(path_), 500)\n",
    "    for filename in filenames:\n",
    "        filepath = os.path.join(path_, filename)\n",
    "        audio_lengts.append(CheckAudioLen(filepath))"
   ],
   "metadata": {
    "collapsed": false,
    "pycharm": {
     "name": "#%%\n"
    }
   }
  },
  {
   "cell_type": "code",
   "execution_count": 14,
   "outputs": [],
   "source": [
    "lengts = list(dict.fromkeys(sorted(audio_lengts)))\n",
    "counts = []\n",
    "for l in lengts:\n",
    "    counts.append(audio_lengts.count(l))"
   ],
   "metadata": {
    "collapsed": false,
    "pycharm": {
     "name": "#%%\n"
    }
   }
  },
  {
   "cell_type": "markdown",
   "source": [
    "### Display bar chart of audio files lenghts"
   ],
   "metadata": {
    "collapsed": false
   }
  },
  {
   "cell_type": "code",
   "execution_count": 15,
   "outputs": [
    {
     "data": {
      "text/plain": "<Figure size 432x288 with 1 Axes>",
      "image/png": "[encoded data removed]"
     },
     "metadata": {
      "needs_background": "light"
     },
     "output_type": "display_data"
    }
   ],
   "source": [
    "plt.bar(lengts, counts)\n",
    "plt.show()"
   ],
   "metadata": {
    "collapsed": false,
    "pycharm": {
     "name": "#%%\n"
    }
   }
  },
  {
   "cell_type": "code",
   "execution_count": 19,
   "outputs": [
    {
     "ename": "SyntaxError",
     "evalue": "keyword argument repeated (Temp/ipykernel_10452/660282207.py, line 16)",
     "output_type": "error",
     "traceback": [
      "\u001B[1;36m  File \u001B[1;32m\"C:\\Users\\michu\\AppData\\Local\\Temp/ipykernel_10452/660282207.py\"\u001B[1;36m, line \u001B[1;32m16\u001B[0m\n\u001B[1;33m    fade, nfft=512, window=512, stride=256, window=\"Hamming\")\u001B[0m\n\u001B[1;37m                                           ^\u001B[0m\n\u001B[1;31mSyntaxError\u001B[0m\u001B[1;31m:\u001B[0m keyword argument repeated\n"
     ]
    }
   ],
   "source": [
    "for path_ in DATA_PATHS:\n",
    "    filenames = random.sample(os.listdir(path_), 2)\n",
    "    for filename in filenames:\n",
    "        filepath = os.path.join(path_, filename)\n",
    "        audio = tfio.audio.AudioIOTensor(filepath)\n",
    "        audio_slice = audio[1024:]\n",
    "        audio_tensor = tf.squeeze(audio_slice, axis=[-1])\n",
    "        tensor = tf.cast(audio_tensor, tf.float32) / 32768.0\n",
    "        position = tfio.audio.trim(tensor, axis=0, epsilon=0.1)\n",
    "        start = position[0]\n",
    "        stop = position[1]\n",
    "        processed = tensor[start:stop]\n",
    "        fade = tfio.audio.fade(\n",
    "            processed, fade_in=1000, fade_out=2000, mode=\"logarithmic\")\n",
    "        spectrogram = tfio.audio.spectrogram(\n",
    "            fade, nfft=512, window=512, stride=256)\n",
    "\n",
    "        plt.figure()\n",
    "        spec = tf.math.log(spectrogram).numpy().transpose()\n",
    "        plt.imshow(spec)\n",
    "        plt.title(filename)\n",
    "        print(spec.shape)"
   ],
   "metadata": {
    "collapsed": false,
    "pycharm": {
     "name": "#%%\n"
    }
   }
  }
 ],
 "metadata": {
  "kernelspec": {
   "display_name": "Python 3",
   "language": "python",
   "name": "python3"
  },
  "language_info": {
   "codemirror_mode": {
    "name": "ipython",
    "version": 2
   },
   "file_extension": ".py",
   "mimetype": "text/x-python",
   "name": "python",
   "nbconvert_exporter": "python",
   "pygments_lexer": "ipython2",
   "version": "2.7.6"
  }
 },
 "nbformat": 4,
 "nbformat_minor": 0
}